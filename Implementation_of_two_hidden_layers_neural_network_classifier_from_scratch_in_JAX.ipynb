{
  "nbformat": 4,
  "nbformat_minor": 0,
  "metadata": {
    "colab": {
      "name": "Implementation of two hidden layers neural network classifier from scratch in JAX.ipynb",
      "provenance": [],
      "collapsed_sections": [],
      "authorship_tag": "ABX9TyNW+T+vcQKQElSHoMF2ilES",
      "include_colab_link": true
    },
    "kernelspec": {
      "name": "python3",
      "display_name": "Python 3"
    },
    "language_info": {
      "name": "python"
    },
    "accelerator": "GPU"
  },
  "cells": [
    {
      "cell_type": "markdown",
      "metadata": {
        "id": "view-in-github",
        "colab_type": "text"
      },
      "source": [
        "<a href=\"https://colab.research.google.com/github/JayantMiglani/Implementation-of-two-hidden-layers-neural-network-classifier-from-scratch-in-JAX/blob/main/Implementation_of_two_hidden_layers_neural_network_classifier_from_scratch_in_JAX.ipynb\" target=\"_parent\"><img src=\"https://colab.research.google.com/assets/colab-badge.svg\" alt=\"Open In Colab\"/></a>"
      ]
    },
    {
      "cell_type": "markdown",
      "source": [
        "## Implementation of a two hidden layer neural network classifier in JAX  "
      ],
      "metadata": {
        "id": "0-ZUR_drpLmK"
      }
    },
    {
      "cell_type": "markdown",
      "source": [
        "# MLP TARINING ON MNIST\n",
        "\n"
      ],
      "metadata": {
        "id": "FARAx2efpsg1"
      }
    },
    {
      "cell_type": "code",
      "source": [
        "import numpy as np\n",
        "import jax.numpy as jnp\n",
        "from jax.scipy.special import logsumexp\n",
        "import jax\n",
        "from jax import jit,vmap,pmap,grad, value_and_grad\n",
        "\n",
        "from torchvision.datasets import MNIST\n",
        "import torch.utils.data as data\n",
        "from torch.utils.data import DataLoader\n",
        "import matplotlib.pyplot as plt\n"
      ],
      "metadata": {
        "id": "OiMogemIrFnm"
      },
      "execution_count": 8,
      "outputs": []
    },
    {
      "cell_type": "code",
      "source": [
        "seed = 0\n",
        "mnist_img_size = (28, 28)\n",
        "\n",
        "def init_MLP(layer_widths, parent_key, scale=0.01):\n",
        "\n",
        "    params = []\n",
        "    keys = jax.random.split(parent_key, num=len(layer_widths)-1)\n",
        "\n",
        "    for in_width, out_width, key in zip(layer_widths[:-1], layer_widths[1:], keys):\n",
        "        weight_key, bias_key = jax.random.split(key)\n",
        "        params.append([\n",
        "                       scale*jax.random.normal(weight_key, shape=(out_width, in_width)),\n",
        "                       scale*jax.random.normal(bias_key, shape=(out_width,))\n",
        "                       ]\n",
        "        )\n",
        "\n",
        "    return params\n",
        "\n",
        "# test\n",
        "key = jax.random.PRNGKey(seed)\n",
        "MLP_params = init_MLP([784, 512, 256, 10], key)\n",
        "print(jax.tree_map(lambda x: x.shape, MLP_params))"
      ],
      "metadata": {
        "colab": {
          "base_uri": "https://localhost:8080/"
        },
        "id": "VPD552JupbDy",
        "outputId": "8afdd77d-73fa-4c92-c23c-d2603165161a"
      },
      "execution_count": 9,
      "outputs": [
        {
          "output_type": "stream",
          "name": "stdout",
          "text": [
            "[[(512, 784), (512,)], [(256, 512), (256,)], [(10, 256), (10,)]]\n"
          ]
        }
      ]
    },
    {
      "cell_type": "code",
      "source": [
        "## predict function\n",
        "def MLP_predict(params,x):\n",
        "  hidden_layers=params[:-1]\n",
        "\n",
        "  activation=x\n",
        "  for w,b in hidden_layers:\n",
        "    activation= jax.nn.relu(jnp.dot(w,activation)+b)\n",
        "\n",
        "  w_last, b_last= params[-1]\n",
        "  logits=jnp.dot(w_last,activation)+b_last\n",
        "\n",
        "  return logits - logsumexp(logits) # simply eqivalent to log(softmax) unit\n",
        "\n",
        "dumm_img_flat= np.random.randn(np.prod(mnist_img_size))\n",
        "print(dumm_img_flat.shape)\n",
        "\n",
        "prediction= MLP_predict(MLP_params,dumm_img_flat)\n",
        "print(prediction.shape)\n",
        "\n",
        "batched_MLP_predict= vmap(MLP_predict,in_axes=(None,0))\n",
        "\n",
        "\n",
        "\n"
      ],
      "metadata": {
        "colab": {
          "base_uri": "https://localhost:8080/"
        },
        "id": "0VOoXKKbsRql",
        "outputId": "9cc27023-3012-4efa-af97-bd98c4bfe4c6"
      },
      "execution_count": 10,
      "outputs": [
        {
          "output_type": "stream",
          "name": "stdout",
          "text": [
            "(784,)\n",
            "(10,)\n"
          ]
        }
      ]
    },
    {
      "cell_type": "code",
      "source": [
        "## add data loading using Pytorch\n",
        "def custom_transform(x):\n",
        "   return np.ravel(np.array(x,dtype=np.float32)) #vectorize and return the PIL image transformed as numpy array\n",
        "\n",
        "\n",
        "def custom_collate_fn(batch):\n",
        "  transposed_data= list(zip(*batch))\n",
        "  \n",
        "  labels = np.array(transposed_data[1])\n",
        "  imgs = np.stack(transposed_data[0])\n",
        "\n",
        "  return imgs, labels\n",
        "\n",
        "batch_size= 128\n",
        "\n",
        "train_set= MNIST(root='train_mnist', download=True,train= True,transform=custom_transform) #my train_dataset is train_set\n",
        "train_set_size=int(len(train_set)*0.8)\n",
        "test_set_size= int(len(train_set)*0.2)\n",
        "train_dataset, test_dataset = data.random_split(train_set, [train_set_size, test_set_size])\n",
        "\n",
        "img= train_dataset[0][0]\n",
        "print(img.shape)#--> vectorize the image\n",
        "\n",
        "# add pytorch dataloader\n",
        "train_loader = DataLoader(train_dataset, batch_size, shuffle=True, collate_fn=custom_collate_fn, drop_last=True)\n",
        "test_loader = DataLoader(test_dataset, batch_size, shuffle=False, collate_fn=custom_collate_fn, drop_last=True)\n",
        "\n",
        "#Edit--> Optimization- loading the whole dataset into memory\n",
        "# train_images = jnp.array(train_dataset.data).reshape(len(train_dataset), -1)\n",
        "# train_lbls = jnp.array(train_dataset.targets)\n",
        "\n",
        "# test_images = jnp.array(test_dataset.data).reshape(len(test_dataset), -1)\n",
        "# test_lbls = jnp.array(test_dataset.targets)\n",
        "\n"
      ],
      "metadata": {
        "colab": {
          "base_uri": "https://localhost:8080/"
        },
        "id": "1wIq3GzU_B5Y",
        "outputId": "590436fd-f1af-4dd9-8a58-858f7bebb9b4"
      },
      "execution_count": 21,
      "outputs": [
        {
          "output_type": "stream",
          "name": "stdout",
          "text": [
            "(784,)\n"
          ]
        }
      ]
    },
    {
      "cell_type": "code",
      "source": [
        "# adding the training loop function\n",
        "\n",
        "num_epochs=5\n",
        "def loss_fn(params, imgs, gt_lbls):#gt->ground truth\n",
        "  predictions =batched_MLP_predict(params,imgs) #expeected dimesnsion-(batch dimension,10)\n",
        "  \n",
        "  return -jnp.mean(predictions*gt_lbls)\n",
        "  \n",
        "### adding the accuracy metrics\n",
        "\n",
        "def accuracy(params,loader):\n",
        "  \n",
        "  acc_sum=0 #acumulator\n",
        "  for img,gt_classes in loader:\n",
        "    pred_classes=jnp.argmax(batched_MLP_predict(params,imgs),axis=1)\n",
        "    acc_sum+= np.sum(pred_classes==gt_classes)\n",
        "\n",
        "  return acc_sum/(len(loader)*loader.batch_size)\n",
        "\n",
        "# def accuracy(params, dataset_imgs, dataset_lbls):\n",
        "#     pred_classes = jnp.argmax(batched_MLP_predict(params, dataset_imgs), axis=1)\n",
        "#     return jnp.mean(dataset_lbls == pred_classes)\n",
        "\n",
        "!jit\n",
        "def update(params,imgs,gt_lbls,lr=0.01): \n",
        "  loss,grads=value_and_grad(loss_fn)(params,imgs,gt_lbls) # will give gradients wrt the params in the pytree \n",
        "  \n",
        "  return loss,jax.tree_multimap(lambda p,g:p-lr*g,params,grads)# sgd implementation\n",
        "\n",
        "\n",
        "\n",
        "# to start fresh every time\n",
        "MLP_params = init_MLP([np.prod(mnist_img_size), 512, 256, len(MNIST.classes)], key)\n",
        "\n",
        "loss_train=[]\n",
        "loss_test=[]\n",
        "\n",
        "for epoch in range(num_epochs):\n",
        "  # adding data loading functionality\n",
        "  for cnt,(imgs,lbls) in enumerate(train_loader):\n",
        "   gt_labels=jax.nn.one_hot(lbls,len(MNIST.classes))\n",
        "   loss,MLP_params=update(MLP_params,imgs,gt_labels)\n",
        "   \n",
        "   if cnt%50==0:\n",
        "        print(loss)\n",
        "\n",
        "  print(f'Epoch {epoch}, train acc = {accuracy(MLP_params,train_loader)} test acc = {accuracy(MLP_params,test_loader)}')\n",
        "  loss_train.append(1-(accuracy(MLP_params,train_loader)))\n",
        "  loss_test.append(1-accuracy(MLP_params,test_loader))"
      ],
      "metadata": {
        "id": "RVB4lch0Nkqk",
        "colab": {
          "base_uri": "https://localhost:8080/"
        },
        "outputId": "76ce7c00-f696-4aa5-d327-029ef3adae65"
      },
      "execution_count": 30,
      "outputs": [
        {
          "output_type": "stream",
          "name": "stdout",
          "text": [
            "/bin/bash: jit: command not found\n",
            "0.24331068\n",
            "0.09873637\n",
            "0.05922513\n",
            "0.041066397\n",
            "0.045867044\n",
            "0.040167015\n",
            "0.036766082\n",
            "0.020447249\n",
            "Epoch 0, train acc = 0.10347916930913925 test acc = 0.10097446292638779\n",
            "0.047863234\n",
            "0.037094332\n",
            "0.040438827\n",
            "0.028881093\n",
            "0.04483928\n",
            "0.03674555\n",
            "0.027976215\n",
            "0.023474121\n",
            "Epoch 1, train acc = 0.09908333420753479 test acc = 0.10425066947937012\n",
            "0.022292515\n",
            "0.018180758\n",
            "0.021668343\n",
            "0.02382503\n",
            "0.020919368\n",
            "0.02966184\n",
            "0.02150714\n",
            "0.030799765\n",
            "Epoch 2, train acc = 0.10008333623409271 test acc = 0.09954637289047241\n",
            "0.030629879\n",
            "0.012708795\n",
            "0.01562869\n",
            "0.01979529\n",
            "0.022310484\n",
            "0.023342995\n",
            "0.0184104\n",
            "0.022327216\n",
            "Epoch 3, train acc = 0.09997916966676712 test acc = 0.09853830933570862\n",
            "0.019079026\n",
            "0.018310357\n",
            "0.013667059\n",
            "0.010584997\n",
            "0.01448617\n",
            "0.014242989\n",
            "0.020569047\n",
            "0.012430629\n",
            "Epoch 4, train acc = 0.09910416603088379 test acc = 0.10114247351884842\n"
          ]
        }
      ]
    },
    {
      "cell_type": "code",
      "source": [
        ""
      ],
      "metadata": {
        "id": "-PQoRJHW9OLD"
      },
      "execution_count": null,
      "outputs": []
    },
    {
      "cell_type": "markdown",
      "source": [
        "**VISUALIZATIONS**"
      ],
      "metadata": {
        "id": "dvVR3AwRvEnD"
      }
    },
    {
      "cell_type": "code",
      "source": [
        "imgs, lbls = next(iter(test_loader))\n",
        "img = imgs[0].reshape(mnist_img_size)\n",
        "gt_lbl = lbls[0]\n",
        "print(img.shape)\n",
        "\n",
        "pred = jnp.argmax(MLP_predict(MLP_params, np.ravel(img)))\n",
        "print('prediction', pred)\n",
        "print('true_label', gt_lbl)\n",
        "\n",
        "plt.imshow(img); plt.show()"
      ],
      "metadata": {
        "colab": {
          "base_uri": "https://localhost:8080/",
          "height": 319
        },
        "id": "4k8o06_DSGDG",
        "outputId": "d4828ec7-3e3c-48fb-f3df-455bd5458009"
      },
      "execution_count": 17,
      "outputs": [
        {
          "output_type": "stream",
          "name": "stdout",
          "text": [
            "(28, 28)\n",
            "prediction 8\n",
            "true_label 8\n"
          ]
        },
        {
          "output_type": "display_data",
          "data": {
            "text/plain": [
              "<Figure size 432x288 with 1 Axes>"
            ],
            "image/png": "[encoded data removed]"
          },
          "metadata": {
            "needs_background": "light"
          }
        }
      ]
    },
    {
      "cell_type": "code",
      "source": [
        ""
      ],
      "metadata": {
        "id": "CiHGvFD9vJQQ"
      },
      "execution_count": null,
      "outputs": []
    },
    {
      "cell_type": "markdown",
      "source": [
        "VISUALIZING MLP **WEIGHTS**"
      ],
      "metadata": {
        "id": "4WS-08952amW"
      }
    },
    {
      "cell_type": "code",
      "source": [
        "w = MLP_params[0][0]\n",
        "print(w.shape)\n",
        "\n",
        "w_single = w[500, :].reshape(mnist_img_size)\n",
        "print(w_single.shape)\n",
        "plt.imshow(w_single); plt.show()"
      ],
      "metadata": {
        "colab": {
          "base_uri": "https://localhost:8080/",
          "height": 301
        },
        "id": "bT4i8-3D2gGl",
        "outputId": "21e143d5-a485-40f5-b841-990a0335d620"
      },
      "execution_count": 14,
      "outputs": [
        {
          "output_type": "stream",
          "name": "stdout",
          "text": [
            "(512, 784)\n",
            "(28, 28)\n"
          ]
        },
        {
          "output_type": "display_data",
          "data": {
            "text/plain": [
              "<Figure size 432x288 with 1 Axes>"
            ],
            "image/png": "[encoded data removed]"
          },
          "metadata": {
            "needs_background": "light"
          }
        }
      ]
    },
    {
      "cell_type": "code",
      "source": [
        ""
      ],
      "metadata": {
        "id": "8tmkd6TU3Suh"
      },
      "execution_count": null,
      "outputs": []
    },
    {
      "cell_type": "markdown",
      "source": [
        "Visualizing embeddings using t-SNE"
      ],
      "metadata": {
        "id": "pH5_aTu97Ouk"
      }
    },
    {
      "cell_type": "code",
      "source": [
        "from sklearn.manifold import TSNE\n",
        "\n",
        "def fetch_activations(params, x):\n",
        "    hidden_layers = params[:-1]\n",
        "\n",
        "    activation = x\n",
        "    for w, b in hidden_layers:\n",
        "        activation = jax.nn.relu(jnp.dot(w, activation) + b)\n",
        "\n",
        "    return activation\n",
        "\n",
        "batched_fetch_activations = vmap(fetch_activations, in_axes=(None, 0))\n",
        "imgs, lbls = next(iter(test_loader))\n",
        "\n",
        "batch_activations = batched_fetch_activations(MLP_params, imgs)\n",
        "print(batch_activations.shape)  # (128, 2)\n",
        "\n",
        "t_sne_embeddings = TSNE(n_components=2, perplexity=30,).fit_transform(batch_activations)\n",
        "cora_label_to_color_map = {0: \"red\", 1: \"blue\", 2: \"green\", 3: \"orange\", 4: \"yellow\", 5: \"pink\", 6: \"gray\"}\n",
        "\n",
        "for class_id in range(10):\n",
        "    plt.scatter(t_sne_embeddings[lbls == class_id, 0], t_sne_embeddings[lbls == class_id, 1], s=20, color=cora_label_to_color_map[class_id])\n",
        "plt.show()"
      ],
      "metadata": {
        "colab": {
          "base_uri": "https://localhost:8080/",
          "height": 562
        },
        "id": "QBUaM7xS7V8-",
        "outputId": "41b406a7-c76e-48ec-aa9e-7844981cf3e5"
      },
      "execution_count": 28,
      "outputs": [
        {
          "output_type": "stream",
          "name": "stdout",
          "text": [
            "(128, 256)\n"
          ]
        },
        {
          "output_type": "stream",
          "name": "stderr",
          "text": [
            "/usr/local/lib/python3.7/dist-packages/sklearn/manifold/_t_sne.py:783: FutureWarning: The default initialization in TSNE will change from 'random' to 'pca' in 1.2.\n",
            "  FutureWarning,\n",
            "/usr/local/lib/python3.7/dist-packages/sklearn/manifold/_t_sne.py:793: FutureWarning: The default learning rate in TSNE will change from 200.0 to 'auto' in 1.2.\n",
            "  FutureWarning,\n"
          ]
        },
        {
          "output_type": "error",
          "ename": "KeyError",
          "evalue": "ignored",
          "traceback": [
            "\u001b[0;31m---------------------------------------------------------------------------\u001b[0m",
            "\u001b[0;31mKeyError\u001b[0m                                  Traceback (most recent call last)",
            "\u001b[0;32m<ipython-input-28-ef6f1ffbcaf4>\u001b[0m in \u001b[0;36m<module>\u001b[0;34m()\u001b[0m\n\u001b[1;32m     20\u001b[0m \u001b[0;34m\u001b[0m\u001b[0m\n\u001b[1;32m     21\u001b[0m \u001b[0;32mfor\u001b[0m \u001b[0mclass_id\u001b[0m \u001b[0;32min\u001b[0m \u001b[0mrange\u001b[0m\u001b[0;34m(\u001b[0m\u001b[0;36m10\u001b[0m\u001b[0;34m)\u001b[0m\u001b[0;34m:\u001b[0m\u001b[0;34m\u001b[0m\u001b[0;34m\u001b[0m\u001b[0m\n\u001b[0;32m---> 22\u001b[0;31m     \u001b[0mplt\u001b[0m\u001b[0;34m.\u001b[0m\u001b[0mscatter\u001b[0m\u001b[0;34m(\u001b[0m\u001b[0mt_sne_embeddings\u001b[0m\u001b[0;34m[\u001b[0m\u001b[0mlbls\u001b[0m \u001b[0;34m==\u001b[0m \u001b[0mclass_id\u001b[0m\u001b[0;34m,\u001b[0m \u001b[0;36m0\u001b[0m\u001b[0;34m]\u001b[0m\u001b[0;34m,\u001b[0m \u001b[0mt_sne_embeddings\u001b[0m\u001b[0;34m[\u001b[0m\u001b[0mlbls\u001b[0m \u001b[0;34m==\u001b[0m \u001b[0mclass_id\u001b[0m\u001b[0;34m,\u001b[0m \u001b[0;36m1\u001b[0m\u001b[0;34m]\u001b[0m\u001b[0;34m,\u001b[0m \u001b[0ms\u001b[0m\u001b[0;34m=\u001b[0m\u001b[0;36m20\u001b[0m\u001b[0;34m,\u001b[0m \u001b[0mcolor\u001b[0m\u001b[0;34m=\u001b[0m\u001b[0mcora_label_to_color_map\u001b[0m\u001b[0;34m[\u001b[0m\u001b[0mclass_id\u001b[0m\u001b[0;34m]\u001b[0m\u001b[0;34m)\u001b[0m\u001b[0;34m\u001b[0m\u001b[0;34m\u001b[0m\u001b[0m\n\u001b[0m\u001b[1;32m     23\u001b[0m \u001b[0mplt\u001b[0m\u001b[0;34m.\u001b[0m\u001b[0mshow\u001b[0m\u001b[0;34m(\u001b[0m\u001b[0;34m)\u001b[0m\u001b[0;34m\u001b[0m\u001b[0;34m\u001b[0m\u001b[0m\n",
            "\u001b[0;31mKeyError\u001b[0m: 7"
          ]
        },
        {
          "output_type": "display_data",
          "data": {
            "text/plain": [
              "<Figure size 432x288 with 1 Axes>"
            ],
            "image/png": "[encoded data removed]"
          },
          "metadata": {
            "needs_background": "light"
          }
        }
      ]
    },
    {
      "cell_type": "markdown",
      "source": [
        "LOSS V/S ITERATIONS CURVE\n"
      ],
      "metadata": {
        "id": "IzRyItlg99Nh"
      }
    },
    {
      "cell_type": "code",
      "source": [
        "epochs = range(1,num_epochs)\n",
        "plt.plot(epochs, loss_train, 'g', label='Training loss')\n",
        "plt.plot(epochs, loss_test, 'b', label='Test loss')\n",
        "plt.title('Training and Test loss')\n",
        "plt.xlabel('Epochs')\n",
        "plt.ylabel('Loss')\n",
        "plt.legend()\n",
        "plt.show()"
      ],
      "metadata": {
        "colab": {
          "base_uri": "https://localhost:8080/",
          "height": 644
        },
        "id": "5H04SPvv9Q0g",
        "outputId": "8ed2318a-6145-4c61-92f1-1895259a9691"
      },
      "execution_count": 27,
      "outputs": [
        {
          "output_type": "error",
          "ename": "ValueError",
          "evalue": "ignored",
          "traceback": [
            "\u001b[0;31m---------------------------------------------------------------------------\u001b[0m",
            "\u001b[0;31mValueError\u001b[0m                                Traceback (most recent call last)",
            "\u001b[0;32m<ipython-input-27-8f0406d9663f>\u001b[0m in \u001b[0;36m<module>\u001b[0;34m()\u001b[0m\n\u001b[1;32m      1\u001b[0m \u001b[0mepochs\u001b[0m \u001b[0;34m=\u001b[0m \u001b[0mrange\u001b[0m\u001b[0;34m(\u001b[0m\u001b[0;36m1\u001b[0m\u001b[0;34m,\u001b[0m\u001b[0mnum_epochs\u001b[0m\u001b[0;34m)\u001b[0m\u001b[0;34m\u001b[0m\u001b[0;34m\u001b[0m\u001b[0m\n\u001b[0;32m----> 2\u001b[0;31m \u001b[0mplt\u001b[0m\u001b[0;34m.\u001b[0m\u001b[0mplot\u001b[0m\u001b[0;34m(\u001b[0m\u001b[0mepochs\u001b[0m\u001b[0;34m,\u001b[0m \u001b[0mloss_train\u001b[0m\u001b[0;34m,\u001b[0m \u001b[0;34m'g'\u001b[0m\u001b[0;34m,\u001b[0m \u001b[0mlabel\u001b[0m\u001b[0;34m=\u001b[0m\u001b[0;34m'Training loss'\u001b[0m\u001b[0;34m)\u001b[0m\u001b[0;34m\u001b[0m\u001b[0;34m\u001b[0m\u001b[0m\n\u001b[0m\u001b[1;32m      3\u001b[0m \u001b[0mplt\u001b[0m\u001b[0;34m.\u001b[0m\u001b[0mplot\u001b[0m\u001b[0;34m(\u001b[0m\u001b[0mepochs\u001b[0m\u001b[0;34m,\u001b[0m \u001b[0mloss_test\u001b[0m\u001b[0;34m,\u001b[0m \u001b[0;34m'b'\u001b[0m\u001b[0;34m,\u001b[0m \u001b[0mlabel\u001b[0m\u001b[0;34m=\u001b[0m\u001b[0;34m'Test loss'\u001b[0m\u001b[0;34m)\u001b[0m\u001b[0;34m\u001b[0m\u001b[0;34m\u001b[0m\u001b[0m\n\u001b[1;32m      4\u001b[0m \u001b[0mplt\u001b[0m\u001b[0;34m.\u001b[0m\u001b[0mtitle\u001b[0m\u001b[0;34m(\u001b[0m\u001b[0;34m'Training and Test loss'\u001b[0m\u001b[0;34m)\u001b[0m\u001b[0;34m\u001b[0m\u001b[0;34m\u001b[0m\u001b[0m\n\u001b[1;32m      5\u001b[0m \u001b[0mplt\u001b[0m\u001b[0;34m.\u001b[0m\u001b[0mxlabel\u001b[0m\u001b[0;34m(\u001b[0m\u001b[0;34m'Epochs'\u001b[0m\u001b[0;34m)\u001b[0m\u001b[0;34m\u001b[0m\u001b[0;34m\u001b[0m\u001b[0m\n",
            "\u001b[0;32m/usr/local/lib/python3.7/dist-packages/matplotlib/pyplot.py\u001b[0m in \u001b[0;36mplot\u001b[0;34m(scalex, scaley, data, *args, **kwargs)\u001b[0m\n\u001b[1;32m   2761\u001b[0m     return gca().plot(\n\u001b[1;32m   2762\u001b[0m         *args, scalex=scalex, scaley=scaley, **({\"data\": data} if data\n\u001b[0;32m-> 2763\u001b[0;31m         is not None else {}), **kwargs)\n\u001b[0m\u001b[1;32m   2764\u001b[0m \u001b[0;34m\u001b[0m\u001b[0m\n\u001b[1;32m   2765\u001b[0m \u001b[0;34m\u001b[0m\u001b[0m\n",
            "\u001b[0;32m/usr/local/lib/python3.7/dist-packages/matplotlib/axes/_axes.py\u001b[0m in \u001b[0;36mplot\u001b[0;34m(self, scalex, scaley, data, *args, **kwargs)\u001b[0m\n\u001b[1;32m   1645\u001b[0m         \"\"\"\n\u001b[1;32m   1646\u001b[0m         \u001b[0mkwargs\u001b[0m \u001b[0;34m=\u001b[0m \u001b[0mcbook\u001b[0m\u001b[0;34m.\u001b[0m\u001b[0mnormalize_kwargs\u001b[0m\u001b[0;34m(\u001b[0m\u001b[0mkwargs\u001b[0m\u001b[0;34m,\u001b[0m \u001b[0mmlines\u001b[0m\u001b[0;34m.\u001b[0m\u001b[0mLine2D\u001b[0m\u001b[0;34m)\u001b[0m\u001b[0;34m\u001b[0m\u001b[0;34m\u001b[0m\u001b[0m\n\u001b[0;32m-> 1647\u001b[0;31m         \u001b[0mlines\u001b[0m \u001b[0;34m=\u001b[0m \u001b[0;34m[\u001b[0m\u001b[0;34m*\u001b[0m\u001b[0mself\u001b[0m\u001b[0;34m.\u001b[0m\u001b[0m_get_lines\u001b[0m\u001b[0;34m(\u001b[0m\u001b[0;34m*\u001b[0m\u001b[0margs\u001b[0m\u001b[0;34m,\u001b[0m \u001b[0mdata\u001b[0m\u001b[0;34m=\u001b[0m\u001b[0mdata\u001b[0m\u001b[0;34m,\u001b[0m \u001b[0;34m**\u001b[0m\u001b[0mkwargs\u001b[0m\u001b[0;34m)\u001b[0m\u001b[0;34m]\u001b[0m\u001b[0;34m\u001b[0m\u001b[0;34m\u001b[0m\u001b[0m\n\u001b[0m\u001b[1;32m   1648\u001b[0m         \u001b[0;32mfor\u001b[0m \u001b[0mline\u001b[0m \u001b[0;32min\u001b[0m \u001b[0mlines\u001b[0m\u001b[0;34m:\u001b[0m\u001b[0;34m\u001b[0m\u001b[0;34m\u001b[0m\u001b[0m\n\u001b[1;32m   1649\u001b[0m             \u001b[0mself\u001b[0m\u001b[0;34m.\u001b[0m\u001b[0madd_line\u001b[0m\u001b[0;34m(\u001b[0m\u001b[0mline\u001b[0m\u001b[0;34m)\u001b[0m\u001b[0;34m\u001b[0m\u001b[0;34m\u001b[0m\u001b[0m\n",
            "\u001b[0;32m/usr/local/lib/python3.7/dist-packages/matplotlib/axes/_base.py\u001b[0m in \u001b[0;36m__call__\u001b[0;34m(self, *args, **kwargs)\u001b[0m\n\u001b[1;32m    214\u001b[0m                 \u001b[0mthis\u001b[0m \u001b[0;34m+=\u001b[0m \u001b[0margs\u001b[0m\u001b[0;34m[\u001b[0m\u001b[0;36m0\u001b[0m\u001b[0;34m]\u001b[0m\u001b[0;34m,\u001b[0m\u001b[0;34m\u001b[0m\u001b[0;34m\u001b[0m\u001b[0m\n\u001b[1;32m    215\u001b[0m                 \u001b[0margs\u001b[0m \u001b[0;34m=\u001b[0m \u001b[0margs\u001b[0m\u001b[0;34m[\u001b[0m\u001b[0;36m1\u001b[0m\u001b[0;34m:\u001b[0m\u001b[0;34m]\u001b[0m\u001b[0;34m\u001b[0m\u001b[0;34m\u001b[0m\u001b[0m\n\u001b[0;32m--> 216\u001b[0;31m             \u001b[0;32myield\u001b[0m \u001b[0;32mfrom\u001b[0m \u001b[0mself\u001b[0m\u001b[0;34m.\u001b[0m\u001b[0m_plot_args\u001b[0m\u001b[0;34m(\u001b[0m\u001b[0mthis\u001b[0m\u001b[0;34m,\u001b[0m \u001b[0mkwargs\u001b[0m\u001b[0;34m)\u001b[0m\u001b[0;34m\u001b[0m\u001b[0;34m\u001b[0m\u001b[0m\n\u001b[0m\u001b[1;32m    217\u001b[0m \u001b[0;34m\u001b[0m\u001b[0m\n\u001b[1;32m    218\u001b[0m     \u001b[0;32mdef\u001b[0m \u001b[0mget_next_color\u001b[0m\u001b[0;34m(\u001b[0m\u001b[0mself\u001b[0m\u001b[0;34m)\u001b[0m\u001b[0;34m:\u001b[0m\u001b[0;34m\u001b[0m\u001b[0;34m\u001b[0m\u001b[0m\n",
            "\u001b[0;32m/usr/local/lib/python3.7/dist-packages/matplotlib/axes/_base.py\u001b[0m in \u001b[0;36m_plot_args\u001b[0;34m(self, tup, kwargs)\u001b[0m\n\u001b[1;32m    340\u001b[0m \u001b[0;34m\u001b[0m\u001b[0m\n\u001b[1;32m    341\u001b[0m         \u001b[0;32mif\u001b[0m \u001b[0mx\u001b[0m\u001b[0;34m.\u001b[0m\u001b[0mshape\u001b[0m\u001b[0;34m[\u001b[0m\u001b[0;36m0\u001b[0m\u001b[0;34m]\u001b[0m \u001b[0;34m!=\u001b[0m \u001b[0my\u001b[0m\u001b[0;34m.\u001b[0m\u001b[0mshape\u001b[0m\u001b[0;34m[\u001b[0m\u001b[0;36m0\u001b[0m\u001b[0;34m]\u001b[0m\u001b[0;34m:\u001b[0m\u001b[0;34m\u001b[0m\u001b[0;34m\u001b[0m\u001b[0m\n\u001b[0;32m--> 342\u001b[0;31m             raise ValueError(f\"x and y must have same first dimension, but \"\n\u001b[0m\u001b[1;32m    343\u001b[0m                              f\"have shapes {x.shape} and {y.shape}\")\n\u001b[1;32m    344\u001b[0m         \u001b[0;32mif\u001b[0m \u001b[0mx\u001b[0m\u001b[0;34m.\u001b[0m\u001b[0mndim\u001b[0m \u001b[0;34m>\u001b[0m \u001b[0;36m2\u001b[0m \u001b[0;32mor\u001b[0m \u001b[0my\u001b[0m\u001b[0;34m.\u001b[0m\u001b[0mndim\u001b[0m \u001b[0;34m>\u001b[0m \u001b[0;36m2\u001b[0m\u001b[0;34m:\u001b[0m\u001b[0;34m\u001b[0m\u001b[0;34m\u001b[0m\u001b[0m\n",
            "\u001b[0;31mValueError\u001b[0m: x and y must have same first dimension, but have shapes (4,) and (0,)"
          ]
        },
        {
          "output_type": "display_data",
          "data": {
            "text/plain": [
              "<Figure size 432x288 with 1 Axes>"
            ],
            "image/png": "[encoded data removed]"
          },
          "metadata": {
            "needs_background": "light"
          }
        }
      ]
    },
    {
      "cell_type": "code",
      "source": [
        ""
      ],
      "metadata": {
        "id": "8HeFiwag_viF"
      },
      "execution_count": null,
      "outputs": []
    }
  ]
}